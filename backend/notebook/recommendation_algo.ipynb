{
 "cells": [
  {
   "cell_type": "markdown",
   "metadata": {},
   "source": [
    "# Bookster\n",
    "\n",
    "## Project Overview\n",
    "This project aims to develop an advanced book recommendation system. By leveraging user data and sophisticated algorithms, the system can suggest books that users are likely to enjoy, enhancing their reading experience.\n"
   ]
  },
  {
   "cell_type": "markdown",
   "metadata": {},
   "source": [
    "# Data Preprocessing\n",
    "\n",
    "## Purpose and Rationale\n",
    "Moving data to an SQL database offers several advantages:\n",
    "- **Scalability**: SQL databases efficiently handle large, growing datasets.\n",
    "- **Efficient Querying**: SQL databases enable complex queries for data manipulation and analysis.\n",
    "\n",
    "Preprocessing is a critical step in machine learning to ensure data quality and integrity. Properly preprocessed data can significantly improve the performance of machine learning models.\n",
    "\n",
    "## Preprocessing Steps\n",
    "1. **Converting Data Types**: Ensuring data consistency, such as converting age to integers.\n",
    "2. **Handling Missing Values**: Dealing with missing or invalid data to maintain data quality.\n",
    "3. **Validating Related Entities**: Ensuring referential integrity, like verifying the existence of user IDs in ratings.\n"
   ]
  },
  {
   "cell_type": "code",
   "execution_count": null,
   "metadata": {},
   "outputs": [],
   "source": [
    "import pandas as pd\n",
    "from sqlalchemy import create_engine\n",
    "\n",
    "DATABASE_URL = \"xxxxxxxxxx\"\n",
    "engine = create_engine(DATABASE_URL)\n",
    "\n",
    "def preprocess_data(df, table_name):\n",
    "    if table_name == 'users':\n",
    "        df['age'] = pd.to_numeric(df['age'], errors='coerce')\n",
    "    \n",
    "    if table_name == 'ratings':\n",
    "        df['user_id'] = pd.to_numeric(df['user_id'], errors='coerce')\n",
    "        df['book_rating'] = pd.to_numeric(df['book_rating'], errors='coerce')\n",
    "        df.dropna(subset=['user_id', 'book_isbn'], inplace=True)\n",
    "    \n",
    "    df.dropna(inplace=True)\n",
    "    return df\n",
    "\n",
    "def import_csv(csv_file, table_name):\n",
    "    df = pd.read_csv(csv_file)\n",
    "    df = preprocess_data(df, table_name)\n",
    "    df.to_sql(table_name, con=engine, if_exists='append', index=False)\n",
    "    print(f\"Imported {csv_file} into {table_name} table.\")"
   ]
  },
  {
   "cell_type": "markdown",
   "metadata": {},
   "source": [
    "## Data Import into SQL Database\n",
    "The process of importing CSV data into an SQL database involves reading the data, applying preprocessing steps, and then loading it into the respective tables. Challenges during this process can include handling large data volumes and resolving format inconsistencies.\n"
   ]
  },
  {
   "cell_type": "markdown",
   "metadata": {},
   "source": [
    "# Analysis of Recommendation Algorithms\n",
    "\n",
    "## Overview of the Hybrid System\n",
    "\n",
    "The hybrid recommendation system combines various algorithms to offer a more personalized and effective recommendation experience. This approach leverages the strengths of different recommendation strategies:\n",
    "\n",
    "- **Personalization**: Tailoring recommendations to individual user preferences and behavior.\n",
    "- **General Trends**: Incorporating broader trends and popular choices to provide well-rounded suggestions.\n",
    "\n",
    "This hybrid system ensures a balance between personalized content and popular choices, enhancing discovery and user satisfaction.\n"
   ]
  },
  {
   "cell_type": "markdown",
   "metadata": {},
   "source": [
    "## Algorithm 1: User-Based Collaborative Filtering\n",
    "\n",
    "### How It Works and Its Relevance\n",
    "\n",
    "User-Based Collaborative Filtering focuses on finding users with similar preferences or rating patterns and recommending items liked by these similar users. It's based on the premise that users with similar tastes in the past will have similar preferences in the future.\n",
    "\n",
    "### Similarity Calculation Using Cosine Similarity\n",
    "\n",
    "To identify similar users, we use cosine similarity, a metric that measures the cosine of the angle between two non-zero vectors in a multi-dimensional space. This choice is motivated by:\n",
    "\n",
    "- **Effectiveness in High-Dimensional Data**: Cosine similarity performs well with high-dimensional data, typical in user-item matrices.\n",
    "- **Normalization**: It considers the rating pattern, rather than the magnitude, making it effective for data with varying scales.\n",
    "\n",
    "### Implementation Snippet\n",
    "\n",
    "```python\n",
    "from sklearn.metrics.pairwise import cosine_similarity\n",
    "\n",
    "def calculate_user_similarity(ratings_matrix):\n",
    "    # Assuming ratings_matrix is a DataFrame with users as rows and items as columns\n",
    "    similarity_matrix = cosine_similarity(ratings_matrix)\n",
    "    return similarity_matrix\n",
    "\n",
    "# Example usage\n",
    "# similarity_matrix = calculate_user_similarity(ratings_matrix)\n"
   ]
  },
  {
   "cell_type": "markdown",
   "metadata": {},
   "source": [
    "\n",
    "\n",
    "## Algorithm 2: Content-Based Filtering for Popular Books\n",
    "\n",
    "### Recommendation Method\n",
    "\n",
    "This approach recommends books based on their popularity within the community, adjusted for user-specific preferences. Books are ranked based on:\n",
    "\n",
    "- **Community Ratings**: Average ratings from the user community.\n",
    "- **User Preferences**: Aligning popular choices with the user's preferred authors and publishers.\n",
    "\n",
    "### Implementation Outline\n",
    "\n",
    "The implementation involves aggregating book ratings and filtering based on user preferences. The algorithm ranks books by their average ratings and considers user preferences for a tailored experience.\n",
    "\n"
   ]
  },
  {
   "cell_type": "code",
   "execution_count": null,
   "metadata": {},
   "outputs": [],
   "source": [
    "def fetch_popular_books(self, session, user_preferences, page):\n",
    "    offset = (page - 1) * 10\n",
    "    limit = 10  \n",
    "\n",
    "    # Apply filters based on user's preferred authors and publishers\n",
    "    if user_preferences.get('preferred_authors'):\n",
    "        query = session.query(Book, func.avg(Rating.book_rating).label('average_rating')) \\\n",
    "                        .join(Rating, Rating.book_isbn == Book.isbn) \\\n",
    "                        .group_by(Book.isbn).filter(Book.author.in_(user_preferences['preferred_authors']))\n",
    "        \n",
    "    if user_preferences.get('preferred_publishers'):\n",
    "        query = session.query(Book, func.avg(Rating.book_rating).label('average_rating')) \\\n",
    "                        .join(Rating, Rating.book_isbn == Book.isbn) \\\n",
    "                        .group_by(Book.isbn).filter(Book.publisher.in_(user_preferences['preferred_publishers']))\n",
    "\n",
    "    # Sort the result by average rating in descending order\n",
    "    query = query.order_by(func.avg(Rating.book_rating).desc())\n",
    "    popular_books = query.offset(offset).limit(limit).all()\n",
    "\n",
    "    return [self.serialize_book(result[0]) for result in popular_books]"
   ]
  },
  {
   "cell_type": "markdown",
   "metadata": {},
   "source": [
    "## Algorithm 3: Recommendations Based on Preferred Authors\n",
    "\n",
    "### Concept and Methodology\n",
    "\n",
    "This algorithm personalizes recommendations by focusing on a user's preferred authors and publishers. It selects high-rated books by these authors or publishers, ensuring that the books haven't been rated by the user already.\n",
    "\n",
    "### Selecting High-Rated Books\n",
    "\n",
    "The process involves:\n",
    "\n",
    "1. Extracting a list of preferred authors and publishers from user data.\n",
    "2. Filtering the books database to include only those written by preferred authors or published by preferred publishers.\n",
    "3. Sorting these books based on ratings, while excluding books already rated by the user.\n",
    "\n",
    "\n"
   ]
  },
  {
   "cell_type": "code",
   "execution_count": null,
   "metadata": {},
   "outputs": [],
   "source": [
    "def fetch_books_by_preferences(self, session, user_preferences, user_rated_books, page):\n",
    "    offset = (page - 1) * 10\n",
    "    limit = 10  \n",
    "\n",
    "    if user_preferences.get('preferred_authors'):\n",
    "        query = session.query(Book).filter(Book.author.in_(user_preferences['preferred_authors']))\n",
    "    if user_preferences.get('preferred_publishers'):\n",
    "        query = session.query(Book).filter(Book.publisher.in_(user_preferences['preferred_publishers']))\n",
    "\n",
    "    query = query.filter(Book.isbn.notin_(user_rated_books))\n",
    "\n",
    "    books = query.offset(offset).limit(limit).all()\n",
    "    return ([self.serialize_book(book) for book in books])"
   ]
  },
  {
   "cell_type": "markdown",
   "metadata": {},
   "source": [
    "## Testing and Tuning\n",
    "\n",
    "### Testing Process\n",
    "\n",
    "- **Data Splitting**: We divided our dataset into training and testing sets, ensuring a representative distribution of user interactions.\n",
    "- **Cross-Validation**: Employed k-fold cross-validation to assess the effectiveness of our recomendations, which helps in understanding their performance across different subsets of data.\n",
    "\n",
    "### Tuning\n",
    "\n",
    "- **Adjusting Similarity Thresholds**: For collaborative filtering, we experimented with different thresholds for user similarity to optimize recommendations.\n",
    "- **Number of Similar Users**: Tuned the number of similar users to consider for generating recommendations, balancing between quality and computational efficiency.\n"
   ]
  },
  {
   "cell_type": "markdown",
   "metadata": {},
   "source": [
    "# Conclusion\n",
    "\n",
    "In this project, we developed a hybrid book recommendation system, employing collaborative and content-based filtering methods. \n",
    "\n",
    "While challenges like the cold start problem persist, the project lays a foundation for future exploration in recommendation systems, with opportunities to integrate more sophisticated AI techniques for even more personalized recommendations.\n"
   ]
  }
 ],
 "metadata": {
  "kernelspec": {
   "display_name": "Python 3",
   "language": "python",
   "name": "python3"
  },
  "language_info": {
   "codemirror_mode": {
    "name": "ipython",
    "version": 3
   },
   "file_extension": ".py",
   "mimetype": "text/x-python",
   "name": "python",
   "nbconvert_exporter": "python",
   "pygments_lexer": "ipython3",
   "version": "3.11.5"
  }
 },
 "nbformat": 4,
 "nbformat_minor": 2
}
